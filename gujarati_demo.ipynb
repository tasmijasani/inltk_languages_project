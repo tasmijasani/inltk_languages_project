{
 "cells": [
  {
   "cell_type": "code",
   "execution_count": 2,
   "id": "6969fb71",
   "metadata": {},
   "outputs": [
    {
     "name": "stdout",
     "output_type": "stream",
     "text": [
      "Collecting inltk\n",
      "  Using cached inltk-0.9-py3-none-any.whl (13 kB)\n",
      "Requirement already satisfied: aiohttp>=3.5.4 in c:\\users\\manav jasani\\appdata\\local\\programs\\python\\python312\\lib\\site-packages (from inltk) (3.9.3)\n",
      "Collecting async-timeout>=3.0.1 (from inltk)\n",
      "  Using cached async_timeout-4.0.3-py3-none-any.whl.metadata (4.2 kB)\n",
      "Requirement already satisfied: Pillow in c:\\users\\manav jasani\\appdata\\local\\programs\\python\\python312\\lib\\site-packages (from inltk) (10.2.0)\n",
      "Requirement already satisfied: beautifulsoup4 in c:\\users\\manav jasani\\appdata\\local\\programs\\python\\python312\\lib\\site-packages (from inltk) (4.12.3)\n",
      "Collecting bottleneck (from inltk)\n",
      "  Using cached Bottleneck-1.3.7.tar.gz (103 kB)\n",
      "  Installing build dependencies: started\n",
      "  Installing build dependencies: finished with status 'done'\n",
      "  Getting requirements to build wheel: started\n",
      "  Getting requirements to build wheel: finished with status 'done'\n",
      "  Preparing metadata (pyproject.toml): started\n",
      "  Preparing metadata (pyproject.toml): finished with status 'done'\n",
      "Collecting fastprogress>=0.1.19 (from inltk)\n",
      "  Using cached fastprogress-1.0.3-py3-none-any.whl.metadata (5.6 kB)\n",
      "Requirement already satisfied: matplotlib in c:\\users\\manav jasani\\appdata\\local\\programs\\python\\python312\\lib\\site-packages (from inltk) (3.8.2)\n",
      "Collecting numexpr (from inltk)\n",
      "  Using cached numexpr-2.9.0-cp312-cp312-win_amd64.whl.metadata (8.1 kB)\n",
      "Requirement already satisfied: numpy>=1.15 in c:\\users\\manav jasani\\appdata\\local\\programs\\python\\python312\\lib\\site-packages (from inltk) (1.26.4)\n",
      "Collecting nvidia-ml-py3 (from inltk)\n",
      "  Using cached nvidia_ml_py3-7.352.0-py3-none-any.whl\n",
      "Requirement already satisfied: packaging in c:\\users\\manav jasani\\appdata\\local\\programs\\python\\python312\\lib\\site-packages (from inltk) (23.2)\n",
      "Requirement already satisfied: pandas in c:\\users\\manav jasani\\appdata\\local\\programs\\python\\python312\\lib\\site-packages (from inltk) (2.1.4)\n",
      "Requirement already satisfied: pyyaml in c:\\users\\manav jasani\\appdata\\local\\programs\\python\\python312\\lib\\site-packages (from inltk) (6.0.1)\n",
      "Requirement already satisfied: requests in c:\\users\\manav jasani\\appdata\\local\\programs\\python\\python312\\lib\\site-packages (from inltk) (2.31.0)\n",
      "Requirement already satisfied: scipy in c:\\users\\manav jasani\\appdata\\local\\programs\\python\\python312\\lib\\site-packages (from inltk) (1.12.0)\n",
      "Collecting spacy>=2.0.18 (from inltk)\n",
      "  Using cached spacy-3.7.4-cp312-cp312-win_amd64.whl.metadata (27 kB)\n",
      "Collecting typing (from inltk)\n",
      "  Using cached typing-3.7.4.3-py3-none-any.whl\n",
      "Collecting fastai==1.0.57 (from inltk)\n",
      "  Using cached fastai-1.0.57-py3-none-any.whl (233 kB)\n",
      "Collecting sentencepiece (from inltk)\n",
      "  Using cached sentencepiece-0.2.0-cp312-cp312-win_amd64.whl.metadata (8.3 kB)\n",
      "Requirement already satisfied: torch>=1.0.0 in c:\\users\\manav jasani\\appdata\\local\\programs\\python\\python312\\lib\\site-packages (from fastai==1.0.57->inltk) (2.2.0)\n",
      "Collecting torchvision (from fastai==1.0.57->inltk)\n",
      "  Using cached torchvision-0.17.0-cp312-cp312-win_amd64.whl.metadata (6.6 kB)\n",
      "Requirement already satisfied: aiosignal>=1.1.2 in c:\\users\\manav jasani\\appdata\\local\\programs\\python\\python312\\lib\\site-packages (from aiohttp>=3.5.4->inltk) (1.3.1)\n",
      "Requirement already satisfied: attrs>=17.3.0 in c:\\users\\manav jasani\\appdata\\local\\programs\\python\\python312\\lib\\site-packages (from aiohttp>=3.5.4->inltk) (23.2.0)\n",
      "Requirement already satisfied: frozenlist>=1.1.1 in c:\\users\\manav jasani\\appdata\\local\\programs\\python\\python312\\lib\\site-packages (from aiohttp>=3.5.4->inltk) (1.4.1)\n",
      "Requirement already satisfied: multidict<7.0,>=4.5 in c:\\users\\manav jasani\\appdata\\local\\programs\\python\\python312\\lib\\site-packages (from aiohttp>=3.5.4->inltk) (6.0.5)\n",
      "Requirement already satisfied: yarl<2.0,>=1.0 in c:\\users\\manav jasani\\appdata\\local\\programs\\python\\python312\\lib\\site-packages (from aiohttp>=3.5.4->inltk) (1.9.4)\n",
      "Collecting spacy-legacy<3.1.0,>=3.0.11 (from spacy>=2.0.18->inltk)\n",
      "  Using cached spacy_legacy-3.0.12-py2.py3-none-any.whl.metadata (2.8 kB)\n",
      "Collecting spacy-loggers<2.0.0,>=1.0.0 (from spacy>=2.0.18->inltk)\n",
      "  Using cached spacy_loggers-1.0.5-py3-none-any.whl.metadata (23 kB)\n",
      "Collecting murmurhash<1.1.0,>=0.28.0 (from spacy>=2.0.18->inltk)\n",
      "  Using cached murmurhash-1.0.10-cp312-cp312-win_amd64.whl.metadata (2.0 kB)\n",
      "Collecting cymem<2.1.0,>=2.0.2 (from spacy>=2.0.18->inltk)\n",
      "  Using cached cymem-2.0.8-cp312-cp312-win_amd64.whl.metadata (8.6 kB)\n",
      "Collecting preshed<3.1.0,>=3.0.2 (from spacy>=2.0.18->inltk)\n",
      "  Using cached preshed-3.0.9-cp312-cp312-win_amd64.whl.metadata (2.2 kB)\n",
      "Collecting thinc<8.3.0,>=8.2.2 (from spacy>=2.0.18->inltk)\n",
      "  Using cached thinc-8.2.3-cp312-cp312-win_amd64.whl.metadata (15 kB)\n",
      "Collecting wasabi<1.2.0,>=0.9.1 (from spacy>=2.0.18->inltk)\n",
      "  Using cached wasabi-1.1.2-py3-none-any.whl.metadata (28 kB)\n",
      "Collecting srsly<3.0.0,>=2.4.3 (from spacy>=2.0.18->inltk)\n",
      "  Using cached srsly-2.4.8-cp312-cp312-win_amd64.whl.metadata (20 kB)\n",
      "Collecting catalogue<2.1.0,>=2.0.6 (from spacy>=2.0.18->inltk)\n",
      "  Using cached catalogue-2.0.10-py3-none-any.whl.metadata (14 kB)\n",
      "Collecting weasel<0.4.0,>=0.1.0 (from spacy>=2.0.18->inltk)\n",
      "  Using cached weasel-0.3.4-py3-none-any.whl.metadata (4.7 kB)\n",
      "Collecting typer<0.10.0,>=0.3.0 (from spacy>=2.0.18->inltk)\n",
      "  Using cached typer-0.9.0-py3-none-any.whl.metadata (14 kB)\n",
      "Collecting smart-open<7.0.0,>=5.2.1 (from spacy>=2.0.18->inltk)\n",
      "  Using cached smart_open-6.4.0-py3-none-any.whl.metadata (21 kB)\n",
      "Requirement already satisfied: tqdm<5.0.0,>=4.38.0 in c:\\users\\manav jasani\\appdata\\local\\programs\\python\\python312\\lib\\site-packages (from spacy>=2.0.18->inltk) (4.66.1)\n",
      "Requirement already satisfied: pydantic!=1.8,!=1.8.1,<3.0.0,>=1.7.4 in c:\\users\\manav jasani\\appdata\\local\\programs\\python\\python312\\lib\\site-packages (from spacy>=2.0.18->inltk) (2.6.1)\n",
      "Requirement already satisfied: jinja2 in c:\\users\\manav jasani\\appdata\\local\\programs\\python\\python312\\lib\\site-packages (from spacy>=2.0.18->inltk) (3.1.3)\n",
      "Requirement already satisfied: setuptools in c:\\users\\manav jasani\\appdata\\local\\programs\\python\\python312\\lib\\site-packages (from spacy>=2.0.18->inltk) (69.1.0)\n",
      "Collecting langcodes<4.0.0,>=3.2.0 (from spacy>=2.0.18->inltk)\n",
      "  Using cached langcodes-3.3.0-py3-none-any.whl (181 kB)\n",
      "Requirement already satisfied: charset-normalizer<4,>=2 in c:\\users\\manav jasani\\appdata\\local\\programs\\python\\python312\\lib\\site-packages (from requests->inltk) (3.3.2)\n",
      "Requirement already satisfied: idna<4,>=2.5 in c:\\users\\manav jasani\\appdata\\local\\programs\\python\\python312\\lib\\site-packages (from requests->inltk) (3.6)\n",
      "Requirement already satisfied: urllib3<3,>=1.21.1 in c:\\users\\manav jasani\\appdata\\local\\programs\\python\\python312\\lib\\site-packages (from requests->inltk) (2.2.0)\n",
      "Requirement already satisfied: certifi>=2017.4.17 in c:\\users\\manav jasani\\appdata\\local\\programs\\python\\python312\\lib\\site-packages (from requests->inltk) (2024.2.2)\n",
      "Requirement already satisfied: soupsieve>1.2 in c:\\users\\manav jasani\\appdata\\local\\programs\\python\\python312\\lib\\site-packages (from beautifulsoup4->inltk) (2.5)\n",
      "Requirement already satisfied: contourpy>=1.0.1 in c:\\users\\manav jasani\\appdata\\local\\programs\\python\\python312\\lib\\site-packages (from matplotlib->inltk) (1.2.0)\n",
      "Requirement already satisfied: cycler>=0.10 in c:\\users\\manav jasani\\appdata\\local\\programs\\python\\python312\\lib\\site-packages (from matplotlib->inltk) (0.12.1)\n",
      "Requirement already satisfied: fonttools>=4.22.0 in c:\\users\\manav jasani\\appdata\\local\\programs\\python\\python312\\lib\\site-packages (from matplotlib->inltk) (4.48.1)\n",
      "Requirement already satisfied: kiwisolver>=1.3.1 in c:\\users\\manav jasani\\appdata\\local\\programs\\python\\python312\\lib\\site-packages (from matplotlib->inltk) (1.4.5)\n",
      "Requirement already satisfied: pyparsing>=2.3.1 in c:\\users\\manav jasani\\appdata\\local\\programs\\python\\python312\\lib\\site-packages (from matplotlib->inltk) (3.1.1)\n",
      "Requirement already satisfied: python-dateutil>=2.7 in c:\\users\\manav jasani\\appdata\\local\\programs\\python\\python312\\lib\\site-packages (from matplotlib->inltk) (2.8.2)\n",
      "Requirement already satisfied: pytz>=2020.1 in c:\\users\\manav jasani\\appdata\\local\\programs\\python\\python312\\lib\\site-packages (from pandas->inltk) (2024.1)\n",
      "Requirement already satisfied: tzdata>=2022.1 in c:\\users\\manav jasani\\appdata\\local\\programs\\python\\python312\\lib\\site-packages (from pandas->inltk) (2023.4)\n",
      "Requirement already satisfied: annotated-types>=0.4.0 in c:\\users\\manav jasani\\appdata\\local\\programs\\python\\python312\\lib\\site-packages (from pydantic!=1.8,!=1.8.1,<3.0.0,>=1.7.4->spacy>=2.0.18->inltk) (0.6.0)\n",
      "Requirement already satisfied: pydantic-core==2.16.2 in c:\\users\\manav jasani\\appdata\\local\\programs\\python\\python312\\lib\\site-packages (from pydantic!=1.8,!=1.8.1,<3.0.0,>=1.7.4->spacy>=2.0.18->inltk) (2.16.2)\n",
      "Requirement already satisfied: typing-extensions>=4.6.1 in c:\\users\\manav jasani\\appdata\\local\\programs\\python\\python312\\lib\\site-packages (from pydantic!=1.8,!=1.8.1,<3.0.0,>=1.7.4->spacy>=2.0.18->inltk) (4.9.0)\n",
      "Requirement already satisfied: six>=1.5 in c:\\users\\manav jasani\\appdata\\local\\programs\\python\\python312\\lib\\site-packages (from python-dateutil>=2.7->matplotlib->inltk) (1.16.0)\n",
      "Collecting blis<0.8.0,>=0.7.8 (from thinc<8.3.0,>=8.2.2->spacy>=2.0.18->inltk)\n",
      "  Using cached blis-0.7.11-cp312-cp312-win_amd64.whl.metadata (7.6 kB)\n",
      "Collecting confection<1.0.0,>=0.0.1 (from thinc<8.3.0,>=8.2.2->spacy>=2.0.18->inltk)\n",
      "  Using cached confection-0.1.4-py3-none-any.whl.metadata (19 kB)\n",
      "Requirement already satisfied: filelock in c:\\users\\manav jasani\\appdata\\local\\programs\\python\\python312\\lib\\site-packages (from torch>=1.0.0->fastai==1.0.57->inltk) (3.13.1)\n",
      "Requirement already satisfied: sympy in c:\\users\\manav jasani\\appdata\\local\\programs\\python\\python312\\lib\\site-packages (from torch>=1.0.0->fastai==1.0.57->inltk) (1.12)\n",
      "Requirement already satisfied: networkx in c:\\users\\manav jasani\\appdata\\local\\programs\\python\\python312\\lib\\site-packages (from torch>=1.0.0->fastai==1.0.57->inltk) (3.2.1)\n",
      "Requirement already satisfied: fsspec in c:\\users\\manav jasani\\appdata\\local\\programs\\python\\python312\\lib\\site-packages (from torch>=1.0.0->fastai==1.0.57->inltk) (2024.2.0)\n",
      "Requirement already satisfied: colorama in c:\\users\\manav jasani\\appdata\\local\\programs\\python\\python312\\lib\\site-packages (from tqdm<5.0.0,>=4.38.0->spacy>=2.0.18->inltk) (0.4.6)\n",
      "Requirement already satisfied: click<9.0.0,>=7.1.1 in c:\\users\\manav jasani\\appdata\\local\\programs\\python\\python312\\lib\\site-packages (from typer<0.10.0,>=0.3.0->spacy>=2.0.18->inltk) (8.1.7)\n",
      "Collecting cloudpathlib<0.17.0,>=0.7.0 (from weasel<0.4.0,>=0.1.0->spacy>=2.0.18->inltk)\n",
      "  Using cached cloudpathlib-0.16.0-py3-none-any.whl.metadata (14 kB)\n",
      "Requirement already satisfied: MarkupSafe>=2.0 in c:\\users\\manav jasani\\appdata\\local\\programs\\python\\python312\\lib\\site-packages (from jinja2->spacy>=2.0.18->inltk) (2.1.5)\n",
      "Requirement already satisfied: mpmath>=0.19 in c:\\users\\manav jasani\\appdata\\local\\programs\\python\\python312\\lib\\site-packages (from sympy->torch>=1.0.0->fastai==1.0.57->inltk) (1.3.0)\n",
      "Using cached async_timeout-4.0.3-py3-none-any.whl (5.7 kB)\n",
      "Using cached fastprogress-1.0.3-py3-none-any.whl (12 kB)\n",
      "Using cached spacy-3.7.4-cp312-cp312-win_amd64.whl (11.7 MB)\n",
      "Using cached numexpr-2.9.0-cp312-cp312-win_amd64.whl (96 kB)\n",
      "Using cached sentencepiece-0.2.0-cp312-cp312-win_amd64.whl (991 kB)\n",
      "Using cached catalogue-2.0.10-py3-none-any.whl (17 kB)\n",
      "Using cached cymem-2.0.8-cp312-cp312-win_amd64.whl (39 kB)\n",
      "Using cached murmurhash-1.0.10-cp312-cp312-win_amd64.whl (25 kB)\n",
      "Using cached preshed-3.0.9-cp312-cp312-win_amd64.whl (122 kB)\n",
      "Using cached smart_open-6.4.0-py3-none-any.whl (57 kB)\n",
      "Using cached spacy_legacy-3.0.12-py2.py3-none-any.whl (29 kB)\n",
      "Using cached spacy_loggers-1.0.5-py3-none-any.whl (22 kB)\n",
      "Using cached srsly-2.4.8-cp312-cp312-win_amd64.whl (478 kB)\n",
      "Using cached thinc-8.2.3-cp312-cp312-win_amd64.whl (1.4 MB)\n",
      "Using cached typer-0.9.0-py3-none-any.whl (45 kB)\n",
      "Using cached wasabi-1.1.2-py3-none-any.whl (27 kB)\n",
      "Using cached weasel-0.3.4-py3-none-any.whl (50 kB)\n",
      "Using cached torchvision-0.17.0-cp312-cp312-win_amd64.whl (1.2 MB)\n",
      "Using cached blis-0.7.11-cp312-cp312-win_amd64.whl (6.6 MB)\n",
      "Using cached cloudpathlib-0.16.0-py3-none-any.whl (45 kB)\n",
      "Using cached confection-0.1.4-py3-none-any.whl (35 kB)\n",
      "Building wheels for collected packages: bottleneck\n",
      "  Building wheel for bottleneck (pyproject.toml): started\n",
      "  Building wheel for bottleneck (pyproject.toml): finished with status 'error'\n",
      "Failed to build bottleneck\n"
     ]
    },
    {
     "name": "stderr",
     "output_type": "stream",
     "text": [
      "  error: subprocess-exited-with-error\n",
      "  \n",
      "  × Building wheel for bottleneck (pyproject.toml) did not run successfully.\n",
      "  │ exit code: 1\n",
      "  ╰─> [57 lines of output]\n",
      "      running bdist_wheel\n",
      "      running build\n",
      "      running build_py\n",
      "      creating build\n",
      "      creating build\\lib.win-amd64-cpython-312\n",
      "      creating build\\lib.win-amd64-cpython-312\\bottleneck\n",
      "      copying bottleneck\\_pytesttester.py -> build\\lib.win-amd64-cpython-312\\bottleneck\n",
      "      copying bottleneck\\_version.py -> build\\lib.win-amd64-cpython-312\\bottleneck\n",
      "      copying bottleneck\\__init__.py -> build\\lib.win-amd64-cpython-312\\bottleneck\n",
      "      creating build\\lib.win-amd64-cpython-312\\bottleneck\\benchmark\n",
      "      copying bottleneck\\benchmark\\autotimeit.py -> build\\lib.win-amd64-cpython-312\\bottleneck\\benchmark\n",
      "      copying bottleneck\\benchmark\\bench.py -> build\\lib.win-amd64-cpython-312\\bottleneck\\benchmark\n",
      "      copying bottleneck\\benchmark\\bench_detailed.py -> build\\lib.win-amd64-cpython-312\\bottleneck\\benchmark\n",
      "      copying bottleneck\\benchmark\\__init__.py -> build\\lib.win-amd64-cpython-312\\bottleneck\\benchmark\n",
      "      creating build\\lib.win-amd64-cpython-312\\bottleneck\\slow\n",
      "      copying bottleneck\\slow\\move.py -> build\\lib.win-amd64-cpython-312\\bottleneck\\slow\n",
      "      copying bottleneck\\slow\\nonreduce.py -> build\\lib.win-amd64-cpython-312\\bottleneck\\slow\n",
      "      copying bottleneck\\slow\\nonreduce_axis.py -> build\\lib.win-amd64-cpython-312\\bottleneck\\slow\n",
      "      copying bottleneck\\slow\\reduce.py -> build\\lib.win-amd64-cpython-312\\bottleneck\\slow\n",
      "      copying bottleneck\\slow\\__init__.py -> build\\lib.win-amd64-cpython-312\\bottleneck\\slow\n",
      "      creating build\\lib.win-amd64-cpython-312\\bottleneck\\src\n",
      "      copying bottleneck\\src\\bn_config.py -> build\\lib.win-amd64-cpython-312\\bottleneck\\src\n",
      "      copying bottleneck\\src\\bn_template.py -> build\\lib.win-amd64-cpython-312\\bottleneck\\src\n",
      "      copying bottleneck\\src\\__init__.py -> build\\lib.win-amd64-cpython-312\\bottleneck\\src\n",
      "      creating build\\lib.win-amd64-cpython-312\\bottleneck\\tests\n",
      "      copying bottleneck\\tests\\common.py -> build\\lib.win-amd64-cpython-312\\bottleneck\\tests\n",
      "      copying bottleneck\\tests\\input_modification_test.py -> build\\lib.win-amd64-cpython-312\\bottleneck\\tests\n",
      "      copying bottleneck\\tests\\list_input_test.py -> build\\lib.win-amd64-cpython-312\\bottleneck\\tests\n",
      "      copying bottleneck\\tests\\memory_test.py -> build\\lib.win-amd64-cpython-312\\bottleneck\\tests\n",
      "      copying bottleneck\\tests\\move_test.py -> build\\lib.win-amd64-cpython-312\\bottleneck\\tests\n",
      "      copying bottleneck\\tests\\nonreduce_axis_test.py -> build\\lib.win-amd64-cpython-312\\bottleneck\\tests\n",
      "      copying bottleneck\\tests\\nonreduce_test.py -> build\\lib.win-amd64-cpython-312\\bottleneck\\tests\n",
      "      copying bottleneck\\tests\\reduce_test.py -> build\\lib.win-amd64-cpython-312\\bottleneck\\tests\n",
      "      copying bottleneck\\tests\\scalar_input_test.py -> build\\lib.win-amd64-cpython-312\\bottleneck\\tests\n",
      "      copying bottleneck\\tests\\test_template.py -> build\\lib.win-amd64-cpython-312\\bottleneck\\tests\n",
      "      copying bottleneck\\tests\\util.py -> build\\lib.win-amd64-cpython-312\\bottleneck\\tests\n",
      "      copying bottleneck\\tests\\__init__.py -> build\\lib.win-amd64-cpython-312\\bottleneck\\tests\n",
      "      creating build\\lib.win-amd64-cpython-312\\bottleneck\\tests\\data\n",
      "      creating build\\lib.win-amd64-cpython-312\\bottleneck\\tests\\data\\template_test\n",
      "      copying bottleneck\\tests\\data\\template_test\\test_template.c -> build\\lib.win-amd64-cpython-312\\bottleneck\\tests\\data\\template_test\n",
      "      copying bottleneck\\tests\\data\\template_test\\truth.c -> build\\lib.win-amd64-cpython-312\\bottleneck\\tests\\data\\template_test\n",
      "      UPDATING build\\lib.win-amd64-cpython-312\\bottleneck/_version.py\n",
      "      set build\\lib.win-amd64-cpython-312\\bottleneck/_version.py to '1.3.7'\n",
      "      running build_ext\n",
      "      running config\n",
      "      compiling '_configtest.c':\n",
      "      \n",
      "      \n",
      "      \n",
      "      int __attribute__((optimize(\"O3\"))) have_attribute_optimize_opt_3(void*);\n",
      "      \n",
      "      int main(void)\n",
      "      {\n",
      "          return 0;\n",
      "      }\n",
      "      \n",
      "      error: Microsoft Visual C++ 14.0 or greater is required. Get it with \"Microsoft C++ Build Tools\": https://visualstudio.microsoft.com/visual-cpp-build-tools/\n",
      "      [end of output]\n",
      "  \n",
      "  note: This error originates from a subprocess, and is likely not a problem with pip.\n",
      "  ERROR: Failed building wheel for bottleneck\n",
      "ERROR: Could not build wheels for bottleneck, which is required to install pyproject.toml-based projects\n"
     ]
    }
   ],
   "source": [
    "!pip install inltk"
   ]
  },
  {
   "cell_type": "code",
   "execution_count": 3,
   "id": "82ca0357",
   "metadata": {},
   "outputs": [
    {
     "name": "stdout",
     "output_type": "stream",
     "text": [
      "Requirement already satisfied: scikit-learn in c:\\users\\manav jasani\\appdata\\local\\programs\\python\\python312\\lib\\site-packages (1.4.0)\n",
      "Requirement already satisfied: numpy<2.0,>=1.19.5 in c:\\users\\manav jasani\\appdata\\local\\programs\\python\\python312\\lib\\site-packages (from scikit-learn) (1.26.4)\n",
      "Requirement already satisfied: scipy>=1.6.0 in c:\\users\\manav jasani\\appdata\\local\\programs\\python\\python312\\lib\\site-packages (from scikit-learn) (1.12.0)\n",
      "Requirement already satisfied: joblib>=1.2.0 in c:\\users\\manav jasani\\appdata\\local\\programs\\python\\python312\\lib\\site-packages (from scikit-learn) (1.3.2)\n",
      "Requirement already satisfied: threadpoolctl>=2.0.0 in c:\\users\\manav jasani\\appdata\\local\\programs\\python\\python312\\lib\\site-packages (from scikit-learn) (3.2.0)\n"
     ]
    }
   ],
   "source": [
    "!pip install scikit-learn"
   ]
  },
  {
   "cell_type": "code",
   "execution_count": 4,
   "id": "bb968468",
   "metadata": {},
   "outputs": [
    {
     "ename": "ModuleNotFoundError",
     "evalue": "No module named 'inltk'",
     "output_type": "error",
     "traceback": [
      "\u001b[1;31m---------------------------------------------------------------------------\u001b[0m",
      "\u001b[1;31mModuleNotFoundError\u001b[0m                       Traceback (most recent call last)",
      "Cell \u001b[1;32mIn[4], line 1\u001b[0m\n\u001b[1;32m----> 1\u001b[0m \u001b[38;5;28;01mfrom\u001b[39;00m \u001b[38;5;21;01minltk\u001b[39;00m\u001b[38;5;21;01m.\u001b[39;00m\u001b[38;5;21;01minltk\u001b[39;00m \u001b[38;5;28;01mimport\u001b[39;00m setup \n\u001b[0;32m      2\u001b[0m setup(\u001b[38;5;124m'\u001b[39m\u001b[38;5;124mgu\u001b[39m\u001b[38;5;124m'\u001b[39m) \n",
      "\u001b[1;31mModuleNotFoundError\u001b[0m: No module named 'inltk'"
     ]
    }
   ],
   "source": [
    "from inltk.inltk import setup \n",
    "setup('gu') "
   ]
  },
  {
   "cell_type": "code",
   "execution_count": 1,
   "id": "d70fb15e",
   "metadata": {},
   "outputs": [
    {
     "ename": "ModuleNotFoundError",
     "evalue": "No module named 'inltk'",
     "output_type": "error",
     "traceback": [
      "\u001b[1;31m---------------------------------------------------------------------------\u001b[0m",
      "\u001b[1;31mModuleNotFoundError\u001b[0m                       Traceback (most recent call last)",
      "Cell \u001b[1;32mIn[1], line 1\u001b[0m\n\u001b[1;32m----> 1\u001b[0m \u001b[38;5;28;01mfrom\u001b[39;00m \u001b[38;5;21;01minltk\u001b[39;00m\u001b[38;5;21;01m.\u001b[39;00m\u001b[38;5;21;01minltk\u001b[39;00m \u001b[38;5;28;01mimport\u001b[39;00m tokenize\n",
      "\u001b[1;31mModuleNotFoundError\u001b[0m: No module named 'inltk'"
     ]
    }
   ],
   "source": [
    "from inltk.inltk import tokenize"
   ]
  },
  {
   "cell_type": "code",
   "execution_count": 7,
   "id": "d6f01dff",
   "metadata": {},
   "outputs": [
    {
     "ename": "Exception",
     "evalue": "You need to do setup for the **first time** for language of your choice so that we can download models. So, Please run setup(gu) first!",
     "output_type": "error",
     "traceback": [
      "\u001b[1;31m---------------------------------------------------------------------------\u001b[0m",
      "\u001b[1;31mException\u001b[0m                                 Traceback (most recent call last)",
      "\u001b[1;32m~\\AppData\\Local\\Temp\\ipykernel_14724\\2970310592.py\u001b[0m in \u001b[0;36m<module>\u001b[1;34m\u001b[0m\n\u001b[0;32m      1\u001b[0m \u001b[0mtext\u001b[0m \u001b[1;33m=\u001b[0m \u001b[1;34m\"ગામમાં ગટરલાઇનનું કામ કરવા બાબ\"\u001b[0m\u001b[1;33m\u001b[0m\u001b[1;33m\u001b[0m\u001b[0m\n\u001b[1;32m----> 2\u001b[1;33m \u001b[0mtokenize\u001b[0m\u001b[1;33m(\u001b[0m\u001b[0mtext\u001b[0m \u001b[1;33m,\u001b[0m\u001b[1;34m'gu'\u001b[0m\u001b[1;33m)\u001b[0m\u001b[1;33m\u001b[0m\u001b[1;33m\u001b[0m\u001b[0m\n\u001b[0m",
      "\u001b[1;32md:\\Ravirajsir\\.venv\\lib\\site-packages\\inltk\\inltk.py\u001b[0m in \u001b[0;36mtokenize\u001b[1;34m(input, language_code)\u001b[0m\n\u001b[0;32m     59\u001b[0m \u001b[1;33m\u001b[0m\u001b[0m\n\u001b[0;32m     60\u001b[0m \u001b[1;32mdef\u001b[0m \u001b[0mtokenize\u001b[0m\u001b[1;33m(\u001b[0m\u001b[0minput\u001b[0m\u001b[1;33m:\u001b[0m \u001b[0mstr\u001b[0m\u001b[1;33m,\u001b[0m \u001b[0mlanguage_code\u001b[0m\u001b[1;33m:\u001b[0m \u001b[0mstr\u001b[0m\u001b[1;33m)\u001b[0m\u001b[1;33m:\u001b[0m\u001b[1;33m\u001b[0m\u001b[1;33m\u001b[0m\u001b[0m\n\u001b[1;32m---> 61\u001b[1;33m     \u001b[0mcheck_input_language\u001b[0m\u001b[1;33m(\u001b[0m\u001b[0mlanguage_code\u001b[0m\u001b[1;33m)\u001b[0m\u001b[1;33m\u001b[0m\u001b[1;33m\u001b[0m\u001b[0m\n\u001b[0m\u001b[0;32m     62\u001b[0m     \u001b[0mtok\u001b[0m \u001b[1;33m=\u001b[0m \u001b[0mLanguageTokenizer\u001b[0m\u001b[1;33m(\u001b[0m\u001b[0mlanguage_code\u001b[0m\u001b[1;33m)\u001b[0m\u001b[1;33m\u001b[0m\u001b[1;33m\u001b[0m\u001b[0m\n\u001b[0;32m     63\u001b[0m     \u001b[0moutput\u001b[0m \u001b[1;33m=\u001b[0m \u001b[0mtok\u001b[0m\u001b[1;33m.\u001b[0m\u001b[0mtokenizer\u001b[0m\u001b[1;33m(\u001b[0m\u001b[0minput\u001b[0m\u001b[1;33m)\u001b[0m\u001b[1;33m\u001b[0m\u001b[1;33m\u001b[0m\u001b[0m\n",
      "\u001b[1;32md:\\Ravirajsir\\.venv\\lib\\site-packages\\inltk\\inltk.py\u001b[0m in \u001b[0;36mcheck_input_language\u001b[1;34m(language_code)\u001b[0m\n\u001b[0;32m     39\u001b[0m         \u001b[1;32mraise\u001b[0m \u001b[0mException\u001b[0m\u001b[1;33m(\u001b[0m\u001b[1;34mf'Language code should be one of {all_language_codes} and not {language_code}'\u001b[0m\u001b[1;33m)\u001b[0m\u001b[1;33m\u001b[0m\u001b[1;33m\u001b[0m\u001b[0m\n\u001b[0;32m     40\u001b[0m     \u001b[1;32mif\u001b[0m \u001b[1;32mnot\u001b[0m \u001b[0mverify_language\u001b[0m\u001b[1;33m(\u001b[0m\u001b[0mlanguage_code\u001b[0m\u001b[1;33m)\u001b[0m\u001b[1;33m:\u001b[0m\u001b[1;33m\u001b[0m\u001b[1;33m\u001b[0m\u001b[0m\n\u001b[1;32m---> 41\u001b[1;33m         raise Exception(f'You need to do setup for the **first time** for language of your choice so that '\n\u001b[0m\u001b[0;32m     42\u001b[0m                         \u001b[1;34mf'we can download models. So, '\u001b[0m\u001b[1;33m\u001b[0m\u001b[1;33m\u001b[0m\u001b[0m\n\u001b[0;32m     43\u001b[0m                         f'Please run setup({language_code}) first!')\n",
      "\u001b[1;31mException\u001b[0m: You need to do setup for the **first time** for language of your choice so that we can download models. So, Please run setup(gu) first!"
     ]
    }
   ],
   "source": [
    "text = \"ગામમાં ગટરલાઇનનું કામ કરવા બાબ\"\n",
    "tokenize(text ,'gu')"
   ]
  },
  {
   "cell_type": "code",
   "execution_count": null,
   "id": "932d84bf",
   "metadata": {},
   "outputs": [],
   "source": []
  },
  {
   "cell_type": "code",
   "execution_count": 6,
   "id": "e1209c7d",
   "metadata": {},
   "outputs": [],
   "source": [
    "import joblib"
   ]
  },
  {
   "cell_type": "code",
   "execution_count": 7,
   "id": "10569ab5",
   "metadata": {},
   "outputs": [
    {
     "name": "stderr",
     "output_type": "stream",
     "text": [
      "c:\\Users\\MANAV JASANI\\AppData\\Local\\Programs\\Python\\Python312\\Lib\\site-packages\\sklearn\\base.py:376: InconsistentVersionWarning: Trying to unpickle estimator TfidfTransformer from version 0.24.1 when using version 1.4.0. This might lead to breaking code or invalid results. Use at your own risk. For more info please refer to:\n",
      "https://scikit-learn.org/stable/model_persistence.html#security-maintainability-limitations\n",
      "  warnings.warn(\n",
      "c:\\Users\\MANAV JASANI\\AppData\\Local\\Programs\\Python\\Python312\\Lib\\site-packages\\sklearn\\base.py:376: InconsistentVersionWarning: Trying to unpickle estimator TfidfVectorizer from version 0.24.1 when using version 1.4.0. This might lead to breaking code or invalid results. Use at your own risk. For more info please refer to:\n",
      "https://scikit-learn.org/stable/model_persistence.html#security-maintainability-limitations\n",
      "  warnings.warn(\n",
      "c:\\Users\\MANAV JASANI\\AppData\\Local\\Programs\\Python\\Python312\\Lib\\site-packages\\sklearn\\base.py:376: InconsistentVersionWarning: Trying to unpickle estimator LinearSVC from version 0.24.1 when using version 1.4.0. This might lead to breaking code or invalid results. Use at your own risk. For more info please refer to:\n",
      "https://scikit-learn.org/stable/model_persistence.html#security-maintainability-limitations\n",
      "  warnings.warn(\n",
      "c:\\Users\\MANAV JASANI\\AppData\\Local\\Programs\\Python\\Python312\\Lib\\site-packages\\sklearn\\base.py:376: InconsistentVersionWarning: Trying to unpickle estimator Pipeline from version 0.24.1 when using version 1.4.0. This might lead to breaking code or invalid results. Use at your own risk. For more info please refer to:\n",
      "https://scikit-learn.org/stable/model_persistence.html#security-maintainability-limitations\n",
      "  warnings.warn(\n"
     ]
    }
   ],
   "source": [
    "model = joblib.load('guju_model.pkl')"
   ]
  },
  {
   "cell_type": "code",
   "execution_count": 9,
   "id": "57eaf787",
   "metadata": {},
   "outputs": [
    {
     "data": {
      "text/plain": [
       "'tech'"
      ]
     },
     "execution_count": 9,
     "metadata": {},
     "output_type": "execute_result"
    }
   ],
   "source": [
    "simple_test = [\"મોબાઈલ એપ લોન્ચ: એસટી બસમાં એડવાન્સ કરાવી શકાશે બુકીંગી\"]\n",
    "pred4 = model.predict(simple_test)\n",
    "pred4[0]"
   ]
  },
  {
   "cell_type": "code",
   "execution_count": 10,
   "id": "3c11c9a4",
   "metadata": {},
   "outputs": [
    {
     "data": {
      "text/plain": [
       "'business'"
      ]
     },
     "execution_count": 10,
     "metadata": {},
     "output_type": "execute_result"
    }
   ],
   "source": [
    "simple_test = [\"પુત્રી હેતલ વિનોદચંદ્ર બારોટ, જાતે અનુસૂચિત જાતિના હિન્‍દુ તુરી કોમના (અતિ પછાત) છે. જેઓએ સ્‍નાતક કક્ષામાં બેચલર ઓફ ફિઝિયોથેરાથીની ડિગ્રી મેળવ્‍યા બાદ ઉચ્‍ચ અભ્‍યાસ (એમ.બી.એ. હેલ્‍થ કેર) અર્થે તા. ૧૭-૧ર-ર૦૦૭ના રોજ અમેરિકા ગયેલ છે. જેની લોનની અરજી જિલ્‍લા પછાત વર્ગ કલ્‍યાણ અધિકારી, અમદાવાદને રજૂ કરવામાં અમો બે-ત્રણ દિવસ મોડા પડયા હતા. જિલ્‍લા સમાજ કલ્‍યાણ અધિકારીશ્રી, અમદાવાદવાળાએ અમારી અરજી મોડી થઇ હોવાથી ફાઇલ કરેલ છે. (અરજી તથા જરૂરી કાગળો બિડાણમાં પાના\"]\n",
    "pred4 = model.predict(simple_test)\n",
    "pred4[0]"
   ]
  }
 ],
 "metadata": {
  "kernelspec": {
   "display_name": "Python 3 (ipykernel)",
   "language": "python",
   "name": "python3"
  },
  "language_info": {
   "codemirror_mode": {
    "name": "ipython",
    "version": 3
   },
   "file_extension": ".py",
   "mimetype": "text/x-python",
   "name": "python",
   "nbconvert_exporter": "python",
   "pygments_lexer": "ipython3",
   "version": "3.12.1"
  }
 },
 "nbformat": 4,
 "nbformat_minor": 5
}
